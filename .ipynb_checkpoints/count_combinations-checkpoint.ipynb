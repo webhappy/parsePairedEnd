{
 "metadata": {
  "name": "",
  "signature": "sha256:53cf5235e4a087a3e92d758f5a6eaa99780049eed436a1eff5747bf2e213d2b0"
 },
 "nbformat": 3,
 "nbformat_minor": 0,
 "worksheets": [
  {
   "cells": [
    {
     "cell_type": "code",
     "collapsed": false,
     "input": [
      "from pandas.io.parsers import *\n",
      "import numpy as np\n",
      "import mysql.connector\n",
      "import pandas as pd\n",
      "from pandas.io.sql import *\n",
      "\n",
      "cnx = mysql.connector.connect(user='davidc', password='mysql_password', host='127.0.0.1',  database='CRISPR')\n",
      "sgRNAs = pd.io.sql.read_sql(\"select id, gene_name, seq FROM sgRNAs where gene_name != ''\",cnx, index_col='seq')\n",
      "sgRNAs['id'] = sgRNAs['id'] - 1  # so id's go from 0 to (#-1)\n",
      "num_sgRNAs = sgRNAs.shape[0]"
     ],
     "language": "python",
     "metadata": {},
     "outputs": [],
     "prompt_number": 46
    },
    {
     "cell_type": "code",
     "collapsed": false,
     "input": [
      "counts = np.zeros(( 32992 * 32992, 3))\n",
      "def get_sgRNA_index (sgRNA1, sgRNA2):\n",
      "    '''\n",
      "    '''\n",
      "    in_order = True\n",
      "    if sgRNA1 > sgRNA2:\n",
      "        in_order = False\n",
      "        sgRNA1, sgRNA2 = sgRNA2, sgRNA1\n",
      "    return in_order, (num_sgRNAs*sgRNAs.loc[sgRNA1,'id'])+sgRNAs.loc[sgRNA2,'id']"
     ],
     "language": "python",
     "metadata": {},
     "outputs": [],
     "prompt_number": 39
    },
    {
     "cell_type": "code",
     "collapsed": false,
     "input": [
      "sgRNAs.loc['aaaaaaagcggcaaagtgga','id']"
     ],
     "language": "python",
     "metadata": {},
     "outputs": [
      {
       "metadata": {},
       "output_type": "pyout",
       "prompt_number": 38,
       "text": [
        "9774"
       ]
      }
     ],
     "prompt_number": 38
    },
    {
     "cell_type": "code",
     "collapsed": false,
     "input": [
      "get_sgRNA_index('aaaaaaagcggcaaagtgga', 'aaaaaaatcgcgcttattat')\n",
      "    "
     ],
     "language": "python",
     "metadata": {},
     "outputs": [
      {
       "metadata": {},
       "output_type": "pyout",
       "prompt_number": 40,
       "text": [
        "(True, 322465822)"
       ]
      }
     ],
     "prompt_number": 40
    }
   ],
   "metadata": {}
  }
 ]
}